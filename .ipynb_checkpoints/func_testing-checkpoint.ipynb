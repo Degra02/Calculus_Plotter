{
 "cells": [
  {
   "cell_type": "code",
   "execution_count": null,
   "metadata": {},
   "outputs": [],
   "source": [
    "from Lexer import Lexer\n",
    "from parser_ import Parser\n",
    "from interpreter import Interpreter\n",
    "import sympy as smp\n",
    "\n",
    "\n",
    "text = input(\"function >> \")\n",
    "lexer = Lexer(text)\n",
    "tokens = lexer.generate_tokens()\n",
    "parser = Parser(tokens)\n",
    "tree = parser.parse()\n"
   ]
  },
  {
   "cell_type": "code",
   "execution_count": null,
   "metadata": {},
   "outputs": [],
   "source": [
    "interpreter = Interpreter()\n",
    "value = interpreter.visit(tree)\n",
    "f = smp.sympify(str(value))\n",
    "f"
   ]
  },
  {
   "cell_type": "code",
   "execution_count": null,
   "metadata": {},
   "outputs": [],
   "source": [
    "from sympy.abc import x\n",
    "\n",
    "smp.diff(f, x)"
   ]
  },
  {
   "cell_type": "code",
   "execution_count": null,
   "metadata": {},
   "outputs": [],
   "source": [
    "string = 'x**2 + y**2 + 3'\n",
    "func = smp.sympify(string)\n",
    "print(func)"
   ]
  }
 ],
 "metadata": {
  "kernelspec": {
   "display_name": "Python 3 (ipykernel)",
   "language": "python",
   "name": "python3"
  },
  "language_info": {
   "codemirror_mode": {
    "name": "ipython",
    "version": 3
   },
   "file_extension": ".py",
   "mimetype": "text/x-python",
   "name": "python",
   "nbconvert_exporter": "python",
   "pygments_lexer": "ipython3",
   "version": "3.10.4"
  }
 },
 "nbformat": 4,
 "nbformat_minor": 1
}
